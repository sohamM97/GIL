{
 "cells": [
  {
   "cell_type": "code",
   "execution_count": 1,
   "id": "116542cb",
   "metadata": {},
   "outputs": [],
   "source": [
    "import threading\n",
    "import time\n",
    "from multiprocessing import Process"
   ]
  },
  {
   "cell_type": "code",
   "execution_count": 2,
   "id": "02d7e07f",
   "metadata": {},
   "outputs": [],
   "source": [
    "def countdown(n):\n",
    "    while n>0:\n",
    "        n=n-1"
   ]
  },
  {
   "cell_type": "code",
   "execution_count": 3,
   "id": "99504e24",
   "metadata": {},
   "outputs": [],
   "source": [
    "COUNT = 50000000"
   ]
  },
  {
   "cell_type": "code",
   "execution_count": 4,
   "id": "5aac6038",
   "metadata": {},
   "outputs": [
    {
     "name": "stdout",
     "output_type": "stream",
     "text": [
      "2.8160486221313477\n"
     ]
    }
   ],
   "source": [
    "start = time.time()\n",
    "countdown(COUNT)\n",
    "end = time.time()\n",
    "\n",
    "print(end-start)"
   ]
  },
  {
   "cell_type": "code",
   "execution_count": 5,
   "id": "4bda217f",
   "metadata": {},
   "outputs": [],
   "source": [
    "t1 = threading.Thread(target=countdown, args=(COUNT//2,))"
   ]
  },
  {
   "cell_type": "code",
   "execution_count": 6,
   "id": "fb90a6e7",
   "metadata": {},
   "outputs": [],
   "source": [
    "t2 = threading.Thread(target=countdown, args=(COUNT//2,))"
   ]
  },
  {
   "cell_type": "code",
   "execution_count": 7,
   "id": "9d54d6c6",
   "metadata": {},
   "outputs": [
    {
     "name": "stdout",
     "output_type": "stream",
     "text": [
      "2.896462917327881\n"
     ]
    }
   ],
   "source": [
    "start = time.time()\n",
    "t1.start()\n",
    "t2.start()\n",
    "t1.join()\n",
    "t2.join()\n",
    "end = time.time()\n",
    "\n",
    "print(end-start)"
   ]
  },
  {
   "cell_type": "code",
   "execution_count": 8,
   "id": "87071048",
   "metadata": {},
   "outputs": [],
   "source": [
    "p1 = Process(target=countdown, args=(COUNT//2,))\n",
    "p2 = Process(target=countdown, args=(COUNT//2,))"
   ]
  },
  {
   "cell_type": "code",
   "execution_count": 9,
   "id": "f996277d",
   "metadata": {},
   "outputs": [
    {
     "name": "stdout",
     "output_type": "stream",
     "text": [
      "1.560593605041504\n"
     ]
    }
   ],
   "source": [
    "start = time.time()\n",
    "p1.start()\n",
    "p2.start()\n",
    "p1.join()\n",
    "p2.join()\n",
    "end = time.time()\n",
    "\n",
    "print(end-start)"
   ]
  },
  {
   "cell_type": "code",
   "execution_count": null,
   "id": "e514ca3c",
   "metadata": {},
   "outputs": [],
   "source": []
  }
 ],
 "metadata": {
  "kernelspec": {
   "display_name": "Python 3",
   "language": "python",
   "name": "python3"
  },
  "language_info": {
   "codemirror_mode": {
    "name": "ipython",
    "version": 3
   },
   "file_extension": ".py",
   "mimetype": "text/x-python",
   "name": "python",
   "nbconvert_exporter": "python",
   "pygments_lexer": "ipython3",
   "version": "3.8.5"
  }
 },
 "nbformat": 4,
 "nbformat_minor": 5
}
